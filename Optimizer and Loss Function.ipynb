{
 "cells": [
  {
   "cell_type": "code",
   "execution_count": null,
   "id": "fd1ccaf6",
   "metadata": {},
   "outputs": [],
   "source": [
    "'''Loss Function'''\n",
    "\n",
    "@torch.no_grad()\n",
    "def estimate_loss():\n",
    "    out = {}\n",
    "    model.eval()\n",
    "    for split in ['train', 'val']:\n",
    "        losses =torch.zeros(eval_iters)\n",
    "        for k in range(eval_iters):\n",
    "            X, Y =get_batch(split)\n",
    "            logits,loss = model(X, Y)\n",
    "            losses[k]=loss.item()\n",
    "        out[split]=losses.mean()\n",
    "    model.train()\n",
    "    return out"
   ]
  },
  {
   "cell_type": "code",
   "execution_count": null,
   "id": "2ec66e5a",
   "metadata": {},
   "outputs": [],
   "source": [
    "''' Selection of Optimizer '''\n",
    "\n",
    "\n",
    "optimizer = torch.optim.Adagrad(m.parameters(), lr=1e-3)\n",
    "batch_size = 32\n",
    "\n",
    "\n",
    "for i in range(10000):\n",
    "  xb,yb=get_batch(train_data,batch_size, block_size)\n",
    "  logits,loss=m(xb,xb)\n",
    "  optimizer.zero_grad(set_to_none=True)\n",
    "  loss.backward()\n",
    "  optimizer.step()\n",
    "\n",
    "print(loss.item())\n"
   ]
  },
  {
   "cell_type": "code",
   "execution_count": null,
   "id": "3cbf859d",
   "metadata": {},
   "outputs": [],
   "source": [
    "optimizer = torch.optim.RMSprop(m.parameters(), lr=1e-3, alpha=0.9)\n",
    "for i in range(1000):\n",
    "  xb,yb=get_batch(train_data,batch_size, block_size)\n",
    "  logits,loss=m(xb,xb)\n",
    "  optimizer.zero_grad(set_to_none=True)\n",
    "  loss.backward()\n",
    "  optimizer.step()\n",
    "\n",
    "print(loss.item())\n"
   ]
  }
 ],
 "metadata": {
  "kernelspec": {
   "display_name": "Python 3 (ipykernel)",
   "language": "python",
   "name": "python3"
  },
  "language_info": {
   "codemirror_mode": {
    "name": "ipython",
    "version": 3
   },
   "file_extension": ".py",
   "mimetype": "text/x-python",
   "name": "python",
   "nbconvert_exporter": "python",
   "pygments_lexer": "ipython3",
   "version": "3.11.0"
  }
 },
 "nbformat": 4,
 "nbformat_minor": 5
}
